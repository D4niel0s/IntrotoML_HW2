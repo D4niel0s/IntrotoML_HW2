{
 "cells": [
  {
   "cell_type": "code",
   "execution_count": 1,
   "metadata": {},
   "outputs": [],
   "source": [
    "import numpy as np\n",
    "import matplotlib.pyplot as plt\n",
    "import intervals"
   ]
  },
  {
   "cell_type": "code",
   "execution_count": null,
   "metadata": {},
   "outputs": [],
   "source": []
  },
  {
   "cell_type": "code",
   "execution_count": 2,
   "metadata": {},
   "outputs": [],
   "source": [
    "def sample_from_D(m):\n",
    "    xs = np.random.uniform(0,1,m)\n",
    "    ys = np.zeros(m)\n",
    "        \n",
    "    for i in range(m):\n",
    "        if((0 <=xs[i] and xs[i] <= 0.2) or (0.4 <=xs[i] and xs[i] <= 0.6) or (0.8 <=xs[i] and xs[i] <= 1)): #If x\\in I_0\n",
    "            ys[i] = np.random.choice([0,1], p=[0.2,0.8])\n",
    "        else:\n",
    "            ys[i] = np.random.choice([0,1], p=[0.9,0.1])\n",
    "        \n",
    "    perm = xs.argsort()\n",
    "\n",
    "    return np.transpose((xs[perm],ys[perm]))"
   ]
  },
  {
   "cell_type": "code",
   "execution_count": 71,
   "metadata": {},
   "outputs": [],
   "source": [
    "def ComputeAreaOfIntersect(arr1, arr2):\n",
    "    S=0\n",
    "\n",
    "        # i and j pointers for arr1 \n",
    "        # and arr2 respectively\n",
    "    i = j = 0\n",
    "    n = len(arr1)\n",
    "    m = len(arr2)\n",
    "    \n",
    "        # Loop through all intervals unless one \n",
    "        # of the interval gets exhausted\n",
    "    while i < n and j < m:\n",
    "            \n",
    "            # Left bound for intersecting segment\n",
    "        l = max(arr1[i][0], arr2[j][0])\n",
    "            \n",
    "            # Right bound for intersecting segment\n",
    "        r = min(arr1[i][1], arr2[j][1])\n",
    "            \n",
    "            # If segment is valid add it's probability\n",
    "        if l <= r: \n",
    "            S += r-l\n",
    "\n",
    "            # If i-th interval's right bound is \n",
    "            # smaller increment i else increment j\n",
    "        if arr1[i][1] < arr2[j][1]:\n",
    "            i += 1\n",
    "        else:\n",
    "            j += 1\n",
    "\n",
    "    return S"
   ]
  },
  {
   "cell_type": "code",
   "execution_count": 77,
   "metadata": {},
   "outputs": [
    {
     "name": "stdout",
     "output_type": "stream",
     "text": [
      "[(0.0016796091896723042, 0.18866381254686748), (0.4006579607198763, 0.5052431332733015), (0.8122219218257818, 0.9975254386445722)]\n",
      "14\n",
      "E_P: 0.23387626436235354\n",
      "E_S: 0.14\n"
     ]
    }
   ],
   "source": [
    "m=100\n",
    "SI0 = 0.6\n",
    "SI0c = 0.4\n",
    "S = sample_from_D(m)\n",
    "interv ,err_cnt = intervals.find_best_interval(S[:,0],S[:,1],3)\n",
    "print(interv)\n",
    "print(err_cnt)\n",
    "\n",
    "emp_err = float(err_cnt)/float(m)\n",
    "interv =[[0,0.2],[0.4,0.6],[0.8,1]]\n",
    "SIcapI0 = ComputeAreaOfIntersect(interv, [[0,0.2],[0.4,0.6],[0.8,1]])\n",
    "SIcapI0c = ComputeAreaOfIntersect(interv, [[0.2,0.4],[0.6,0.8]])\n",
    "\n",
    "true_err = 0.8*SI0 + 0.1*SI0c - 0.6*SIcapI0 + 0.8*SIcapI0c\n",
    "print(\"E_P:\",true_err)\n",
    "print(\"E_S:\",emp_err)"
   ]
  },
  {
   "cell_type": "code",
   "execution_count": null,
   "metadata": {},
   "outputs": [],
   "source": []
  },
  {
   "cell_type": "code",
   "execution_count": null,
   "metadata": {},
   "outputs": [],
   "source": []
  },
  {
   "cell_type": "code",
   "execution_count": null,
   "metadata": {},
   "outputs": [],
   "source": []
  },
  {
   "cell_type": "code",
   "execution_count": null,
   "metadata": {},
   "outputs": [],
   "source": []
  }
 ],
 "metadata": {
  "kernelspec": {
   "display_name": "Python 3",
   "language": "python",
   "name": "python3"
  },
  "language_info": {
   "codemirror_mode": {
    "name": "ipython",
    "version": 3
   },
   "file_extension": ".py",
   "mimetype": "text/x-python",
   "name": "python",
   "nbconvert_exporter": "python",
   "pygments_lexer": "ipython3",
   "version": "3.11.1"
  }
 },
 "nbformat": 4,
 "nbformat_minor": 2
}
